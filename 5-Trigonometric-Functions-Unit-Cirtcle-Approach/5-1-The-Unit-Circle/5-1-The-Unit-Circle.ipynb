{
 "cells": [
  {
   "cell_type": "markdown",
   "metadata": {},
   "source": [
    "\n",
    "# 5-1 The Unit Circle\n",
    "\n",
    "In this section we explore some properties of the circle of rarius 1 centered at the origin. These properties are used in the next section to define the trigonometric functions."
   ]
  },
  {
   "cell_type": "markdown",
   "metadata": {},
   "source": [
    "## The Unit Circle\n",
    "\n",
    "The set of points at a distance 1 from the origin is a circle of radius 1 (see Figure 1). In Section 1.9 we learned that the equation of this circle is $\\ x^2 + y^2 = 1$.\n",
    "\n",
    "> **THE UNIT CIRCLE**: <br> The **unit circle** it the circle of raidus 1 centered at the origin in the $\\ xy-$ plane. Its equation is $\\ x^2 + y^2 = 1$\n",
    "\n"
   ]
  },
  {
   "cell_type": "code",
   "execution_count": null,
   "metadata": {},
   "outputs": [],
   "source": []
  },
  {
   "cell_type": "code",
   "execution_count": 5,
   "metadata": {},
   "outputs": [
    {
     "data": {
      "image/png": "[encoded data removed]",
      "text/plain": [
       "<Figure size 640x480 with 1 Axes>"
      ]
     },
     "metadata": {},
     "output_type": "display_data"
    }
   ],
   "source": [
    "import matplotlib.pyplot as plt\n",
    "import numpy as np\n",
    "\n",
    "# Create the figure and axes object\n",
    "fig, ax = plt.subplots()\n",
    "\n",
    "# Create the unit circle\n",
    "theta = np.linspace(0, 2*np.pi, 100)\n",
    "x = np.cos(theta)\n",
    "y = np.sin(theta)\n",
    "\n",
    "# Plot the unit circle\n",
    "ax.plot(x, y)\n",
    "\n",
    "# Add the x and y axes\n",
    "ax.axhline(0, color='black', linewidth=0.5)\n",
    "ax.axvline(0, color='black', linewidth=0.5)\n",
    "\n",
    "# Set the x and y limits\n",
    "ax.set_xlim(-1.5, 1.5)\n",
    "ax.set_ylim(-1.5, 1.5)\n",
    "\n",
    "# Add the labels and title\n",
    "ax.set_xlabel('x')\n",
    "ax.set_ylabel('y')\n",
    "ax.set_title('Unit Circle')\n",
    "\n",
    "# Show the plot\n",
    "plt.show()"
   ]
  },
  {
   "cell_type": "markdown",
   "metadata": {},
   "source": [
    "### Example 1: A Point on the Unit Circle\n",
    "\n",
    "Show that the point $\\ P \\left( \\frac{\\sqrt3}{3}, \\frac{\\sqrt6}{6} \\right)$ is on the unit circle.\n",
    "\n",
    "> Solution <br>\n",
    "We need to show that this point satisfies the equation of the unit circle, that is, $\\ x^2 + y^2 = 1 $. Since <br>\n",
    "$\\ \\left( \\frac{\\sqrt3}{3} \\right)^2 + \\left( \\frac{\\sqrt6}{3} \\right)^2 = \\frac{3}{9} + \\frac{6}{9} = 1$ <br>\n",
    "P is on the unit circle"
   ]
  },
  {
   "cell_type": "markdown",
   "metadata": {},
   "source": [
    "### EXAMPLE 2: Locating a Point on the Unit Circle\n",
    "\n",
    "The point $\\ P(\\sqrt3/2, y) $ is on the unit circle in Quadrant IV. Find its y-coordinate.\n",
    "\n",
    "> SOLUTION: Since the point is on the unit circle, we have <br>\n",
    "$\\ \\left( \\frac{\\sqrt{3}}{2}\\right)^2 + y^2 = 1 $ <br>\n",
    "$\\ y^2 = 1 - \\frac{3}{4} = \\frac{1}{4}$<br>\n",
    "$\\ y = +- \\frac{1}{2}$<br>\n",
    "Since the point is in Quadrant IV, its y-coordinate msut be negative, so $\\ y = \\frac{-1}{2}$"
   ]
  },
  {
   "cell_type": "markdown",
   "metadata": {},
   "source": [
    "## Terminal Points on the Unit Circle\n",
    "\n",
    "Suppose $t$  is a real number. If $ t \\geq 0$, let's mark off a distance $ t$ along the unit circle, starting at the point $ (1, 0)$ and moving in a counterclockwise direction. If $ t < 0$ we mark off a distance $ \\lvert t \\rvert$ in a clockwise direction (Figure 2). In this way we arrive at a point $ P(x, y)$ on the unit circle. The point $ P(x, y) $ obtained in this way is called the **terminal point** determined by the real number $t$.\n"
   ]
  },
  {
   "cell_type": "code",
   "execution_count": 6,
   "metadata": {},
   "outputs": [
    {
     "name": "stdout",
     "output_type": "stream",
     "text": [
      "The terminal point for t = 0.7853981633974483 is P(0.7071067811865476, 0.7071067811865475)\n",
      "The terminal point for t = -1.5707963267948966 is P(6.123233995736766e-17, -1.0)\n"
     ]
    }
   ],
   "source": [
    "import math\n",
    "\n",
    "def terminal_point(t):\n",
    "    \"\"\"\n",
    "    Calculates the terminal point P(x, y) on the unit circle determined by the real number t.\n",
    "\n",
    "    Args:\n",
    "        t: The real number representing the distance to be marked off along the unit circle.\n",
    "\n",
    "    Returns:\n",
    "        A tuple (x, y) representing the coordinates of the terminal point P, or None if t is not a real number.\n",
    "        \n",
    "    \"\"\"\n",
    "\n",
    "    if not isinstance(t, (int, float)):\n",
    "        return None\n",
    "\n",
    "    # Calculate the angle in radians\n",
    "    angle_rad = t\n",
    "\n",
    "    # Calculate the coordinates of the terminal point\n",
    "    x = math.cos(angle_rad)\n",
    "    y = math.sin(angle_rad)\n",
    "\n",
    "    return x, y\n",
    "\n",
    "# Example usage\n",
    "t = math.pi / 4  # Example: t = π/4\n",
    "x, y = terminal_point(t)\n",
    "print(f\"The terminal point for t = {t} is P({x}, {y})\")\n",
    "\n",
    "t = -math.pi / 2  # Example: t = -π/2\n",
    "x, y = terminal_point(t)\n",
    "print(f\"The terminal point for t = {t} is P({x}, {y})\")"
   ]
  }
 ],
 "metadata": {
  "kernelspec": {
   "display_name": "Python 3",
   "language": "python",
   "name": "python3"
  },
  "language_info": {
   "codemirror_mode": {
    "name": "ipython",
    "version": 3
   },
   "file_extension": ".py",
   "mimetype": "text/x-python",
   "name": "python",
   "nbconvert_exporter": "python",
   "pygments_lexer": "ipython3",
   "version": "3.10.12"
  }
 },
 "nbformat": 4,
 "nbformat_minor": 2
}
